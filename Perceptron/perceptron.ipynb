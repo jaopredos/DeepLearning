{
 "cells": [
  {
   "attachments": {
    "image.png": {
     "image/png": "[encoded data removed]"
    }
   },
   "cell_type": "markdown",
   "id": "edcc6968",
   "metadata": {},
   "source": [
    "**O PERCEPTRON**\n",
    "- \"O neurônio artificial\";\n",
    "- Sua estrutura consiste uma quantidade de inputs, com um especial chamado \"bias\", (x0 - que é o *bias* -, x1, x2,..., xn), uma quantidade de pesos (w0, w1, w2, ..., wn) e uma **única saída**, comumente chamada de *y*;\n",
    "- Cada input está associado a um peso.\n",
    "\n",
    "![image.png](attachment:image.png)\n",
    "*A imagem representa a estrutra de um perceptron*\n",
    "\n",
    "**A estrutura**\n",
    "- O circulo branco com o mais no meio representa o somatório dos pesos multiplicados pelos inputs. Essa soma ponderada fica conhecida como *z*;\n",
    "- Esse *z* vai para uma função de ativação chamada *signum*, que funciona da seguinte forma: z < 0 -> output = -1; z >= 0 -> output = 1.\n"
   ]
  },
  {
   "cell_type": "markdown",
   "id": "c1c99585",
   "metadata": {},
   "source": [
    "# IMPLEMENTAÇÃO DA FUNÇÃO DO PERCEPTRON\n",
    "\n",
    "- 'w' e 'x' são vetores de n elementos, W o vetor de pesos e X o de inputs.\n",
    "- Para o caso dessa função, o primeiro elemento de X deverá ser 1, que nesse caso é o bias selecionado."
   ]
  },
  {
   "cell_type": "code",
   "execution_count": 1,
   "id": "7ec9ed5d",
   "metadata": {},
   "outputs": [],
   "source": [
    "def compute_output(w, x):\n",
    "    z = 0.0\n",
    "    for i in range(len(w)):\n",
    "        z += w[i] * x[i]\n",
    "    if z < 0:\n",
    "        return -1\n",
    "    else:\n",
    "        return 1"
   ]
  },
  {
   "cell_type": "markdown",
   "id": "a1f67b87",
   "metadata": {},
   "source": [
    "## EXEMPLO DO PERCEPTRON COM DOIS INPUTS\n",
    "- Como comentado, o primeiro valor de X será 1 e os outros valores de input serão -1 e 1. Logo, X = [1, -1, 1]\n",
    "- Os valores dos pesos serão: W = [0.8, -0.5, -0.4]"
   ]
  },
  {
   "cell_type": "code",
   "execution_count": 2,
   "id": "17e69bee",
   "metadata": {},
   "outputs": [
    {
     "name": "stdout",
     "output_type": "stream",
     "text": [
      "1\n"
     ]
    }
   ],
   "source": [
    "teste = compute_output([0.8, -0.5, -0.4], [1, -1, 1])\n",
    "print(teste)"
   ]
  },
  {
   "cell_type": "markdown",
   "id": "97e700f6",
   "metadata": {},
   "source": [
    "## OUTROS EXEMPLOS"
   ]
  },
  {
   "cell_type": "code",
   "execution_count": 7,
   "id": "5f0c29c3",
   "metadata": {},
   "outputs": [
    {
     "name": "stdout",
     "output_type": "stream",
     "text": [
      "T2 = -1\n",
      "T3 = 1\n"
     ]
    }
   ],
   "source": [
    "t2 = compute_output([0.8, -0.5, -0.4], [1, 1, 1])\n",
    "print('T2 =', t2)\n",
    "t3 = compute_output([0.8, -0.5, -0.4], [1, -1, -1])\n",
    "print('T3 =', t3)"
   ]
  },
  {
   "cell_type": "markdown",
   "id": "cfe8630d",
   "metadata": {},
   "source": [
    "# ALGORITMO DE APRENDIZAGEM DO PERCEPTRON\n",
    "1. Inicialize aleatoriamente os pesos;\n",
    "2. Selecionar um par de input/output correspondente;\n",
    "3. Passar os valores de input para o perceptron calcular a saída *y*;\n",
    "4. Se a saída *y* for diferente do output esperado, o correto, ajuste os pesos da seguinte maneira:\n",
    "    - Se o *y*<0, some kxi para cada peso wi, com k sendo alguma constante;\n",
    "    - Se o *y*>0, subtraia kxi para cada peso wi, com k sendo alguma constante;\n",
    "5. Repita os passos 2, 3 e 4 até que o perceptron acertar todos os exemplos.\n",
    "\n",
    "Obs: No entanto, o perceptron possui limitações e haverá casos em que o algoritmo não conseguirá convergir.\n",
    "\n",
    "------------------------------------------------------------------------------------------------------------------\n",
    "A constante que chamei de *k* anteriormente é conhecida como *learning rate*. Ela é um hiperparâmetro, ou seja, algo externo ao modelo que podemos ajustar antes do início do treinamento, não é um parâmetro ajustado diretamente pelo algoritmo de aprendizagem."
   ]
  }
 ],
 "metadata": {
  "kernelspec": {
   "display_name": "venv",
   "language": "python",
   "name": "python3"
  },
  "language_info": {
   "codemirror_mode": {
    "name": "ipython",
    "version": 3
   },
   "file_extension": ".py",
   "mimetype": "text/x-python",
   "name": "python",
   "nbconvert_exporter": "python",
   "pygments_lexer": "ipython3",
   "version": "3.12.7"
  }
 },
 "nbformat": 4,
 "nbformat_minor": 5
}
